{
  "metadata": {
    "kernelspec": {
      "name": "python",
      "display_name": "Pyolite",
      "language": "python"
    },
    "language_info": {
      "codemirror_mode": {
        "name": "python",
        "version": 3
      },
      "file_extension": ".py",
      "mimetype": "text/x-python",
      "name": "python",
      "nbconvert_exporter": "python",
      "pygments_lexer": "ipython3",
      "version": "3.8"
    }
  },
  "nbformat_minor": 4,
  "nbformat": 4,
  "cells": [
    {
      "cell_type": "markdown",
      "source": "<center>\n    <img src=\"https://s3-api.us-geo.objectstorage.softlayer.net/cf-courses-data/CognitiveClass/Logos/organization_logo/organization_logo.png\" width=\"300\" alt=\"cognitiveclass.ai logo\"  />\n</center>\n",
      "metadata": {}
    },
    {
      "cell_type": "markdown",
      "source": "#### Add your code below following the instructions given in the course\n",
      "metadata": {}
    },
    {
      "cell_type": "markdown",
      "source": "# My Jupyter Notebook on IBM Watson Studio",
      "metadata": {}
    },
    {
      "cell_type": "markdown",
      "source": "<p><strong>Nicola Zil</strong></p>\n<p>Data Analyst</p>",
      "metadata": {}
    },
    {
      "cell_type": "markdown",
      "source": "<p><em>I am interested in data science because i love working with data and finding hidden patterns and insights.</em></p>",
      "metadata": {}
    },
    {
      "cell_type": "markdown",
      "source": "<h3>My code sums 2 + 5 and prints the result.</h3>",
      "metadata": {}
    },
    {
      "cell_type": "code",
      "source": "result = 2 + 5\nprint(result)",
      "metadata": {
        "trusted": true
      },
      "execution_count": 9,
      "outputs": [
        {
          "name": "stdout",
          "text": "7\n",
          "output_type": "stream"
        }
      ]
    },
    {
      "cell_type": "markdown",
      "source": "<p><strong>Cell 6 (rendered as Markdown):</strong></p>\n<p>&nbsp;</p>\n<p>Bulleted list:</p>\n<ul>\n<li>One</li>\n<li>Two</li>\n<li>Three</li>\n</ul>\n<p>&nbsp;</p>\n<p>Numbered list:</p>\n<ol>\n<li>One</li>\n<li>Two</li>\n<li>Three</li>\n</ol>\n<p>&nbsp;</p>\n<p>Table:</p>\n<table style=\"height: 66px;\" width=\"240\">\n<tbody>\n<tr>\n<td style=\"width: 112px;\">Example 1</td>\n<td style=\"width: 112px;\">Example 2</td>\n</tr>\n<tr>\n<td style=\"width: 112px;\">111</td>\n<td style=\"width: 112px;\">222</td>\n</tr>\n</tbody>\n</table>\n<p>&nbsp;</p>\n<p>Hyperlink:</p>\n<p><a title=\"Goolge\" href=\"https://www.google.it/\">Google</a></p>\n<p>&nbsp;</p>\n<p>Image:</p>\n<p><img src=\"https://upload.wikimedia.org/wikipedia/commons/9/9a/Gull_portrait_ca_usa.jpg\" alt=\"\" width=\"100\" height=\"75\" /></p>",
      "metadata": {}
    },
    {
      "cell_type": "code",
      "source": "",
      "metadata": {},
      "execution_count": null,
      "outputs": []
    }
  ]
}